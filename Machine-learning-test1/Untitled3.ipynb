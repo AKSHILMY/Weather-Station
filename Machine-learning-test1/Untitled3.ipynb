{
 "cells": [
  {
   "cell_type": "code",
   "execution_count": 43,
   "id": "3926d597",
   "metadata": {},
   "outputs": [],
   "source": [
    "import numpy as np\n",
    "import pandas as pd"
   ]
  },
  {
   "cell_type": "code",
   "execution_count": 44,
   "id": "a54aa58e",
   "metadata": {},
   "outputs": [],
   "source": [
    "#importing dataset\n"
   ]
  },
  {
   "cell_type": "code",
   "execution_count": 45,
   "id": "532dd0b3",
   "metadata": {},
   "outputs": [
    {
     "name": "stdout",
     "output_type": "stream",
     "text": [
      "        MinTemp  Rainfall WindGustDir  WindGustSpeed  Humidity9am\n",
      "0          13.4       0.6           W           44.0         71.0\n",
      "1           7.4       0.0         WNW           44.0         44.0\n",
      "2          12.9       0.0         WSW           46.0         38.0\n",
      "3           9.2       0.0          NE           24.0         45.0\n",
      "4          17.5       1.0           W           41.0         82.0\n",
      "...         ...       ...         ...            ...          ...\n",
      "145455      2.8       0.0           E           31.0         51.0\n",
      "145456      3.6       0.0         NNW           22.0         56.0\n",
      "145457      5.4       0.0           N           37.0         53.0\n",
      "145458      7.8       0.0          SE           28.0         51.0\n",
      "145459     14.9       0.0         NaN            NaN         62.0\n",
      "\n",
      "[145460 rows x 5 columns]\n",
      "[[13.4 0.6 'W' 44.0 71.0]\n",
      " [7.4 0.0 'WNW' 44.0 44.0]\n",
      " [12.9 0.0 'WSW' 46.0 38.0]\n",
      " ...\n",
      " [5.4 0.0 'N' 37.0 53.0]\n",
      " [7.8 0.0 'SE' 28.0 51.0]\n",
      " [14.9 0.0 nan nan 62.0]]\n",
      "['No' 'No' 'No' ... 'No' 'No' nan]\n"
     ]
    }
   ],
   "source": [
    "dataset=pd.read_csv(\"weatherAUS.csv\")\n",
    "print(dataset.iloc[:,[2,4,7,8,13]])\n",
    "X=dataset.iloc[:,[2,4,7,8,13]].values\n",
    "Y=dataset.iloc[:,-1].values\n",
    "print(X)\n",
    "print(Y)\n"
   ]
  },
  {
   "cell_type": "code",
   "execution_count": 46,
   "id": "43498766",
   "metadata": {},
   "outputs": [],
   "source": [
    "Y=Y.reshape(-1,1)\n",
    "from sklearn.impute import SimpleImputer\n",
    "imputer=SimpleImputer(missing_values=np.nan,strategy='most_frequent')\n",
    "X=imputer.fit_transform(X)\n",
    "Y=imputer.fit_transform(Y)\n",
    "\n"
   ]
  },
  {
   "cell_type": "code",
   "execution_count": 47,
   "id": "9b06ac03",
   "metadata": {},
   "outputs": [
    {
     "name": "stderr",
     "output_type": "stream",
     "text": [
      "C:\\Users\\najee\\AppData\\Local\\Programs\\Python\\Python310\\lib\\site-packages\\sklearn\\preprocessing\\_label.py:115: DataConversionWarning: A column-vector y was passed when a 1d array was expected. Please change the shape of y to (n_samples, ), for example using ravel().\n",
      "  y = column_or_1d(y, warn=True)\n"
     ]
    }
   ],
   "source": [
    "#Encode to integer\n",
    "from sklearn.preprocessing import LabelEncoder\n",
    "le_1=LabelEncoder()\n",
    "X[:,2]=le_1.fit_transform(X[:,2])\n",
    "le_2=LabelEncoder()\n",
    "Y=le_2.fit_transform(Y)"
   ]
  },
  {
   "cell_type": "code",
   "execution_count": 48,
   "id": "5166044f",
   "metadata": {},
   "outputs": [
    {
     "name": "stdout",
     "output_type": "stream",
     "text": [
      "[[13.4 0.6 13 44.0 71.0]\n",
      " [7.4 0.0 14 44.0 44.0]\n",
      " [12.9 0.0 15 46.0 38.0]\n",
      " ...\n",
      " [5.4 0.0 3 37.0 53.0]\n",
      " [7.8 0.0 9 28.0 51.0]\n",
      " [14.9 0.0 13 35.0 62.0]]\n"
     ]
    }
   ],
   "source": [
    "print(X)"
   ]
  },
  {
   "cell_type": "code",
   "execution_count": 49,
   "id": "7ca55ee2",
   "metadata": {},
   "outputs": [],
   "source": [
    "from sklearn.preprocessing import StandardScaler\n",
    "sc=StandardScaler()\n",
    "X=sc.fit_transform(X)\n"
   ]
  },
  {
   "cell_type": "code",
   "execution_count": 50,
   "id": "a5c8ba3d",
   "metadata": {},
   "outputs": [],
   "source": [
    "from sklearn.model_selection import train_test_split\n",
    "X_train,X_test,Y_train,Y_test=train_test_split(X,Y,test_size=0.2,random_state=0)\n"
   ]
  },
  {
   "cell_type": "code",
   "execution_count": 51,
   "id": "3f1436d1",
   "metadata": {},
   "outputs": [
    {
     "data": {
      "text/plain": [
       "RandomForestClassifier(random_state=0)"
      ]
     },
     "execution_count": 51,
     "metadata": {},
     "output_type": "execute_result"
    }
   ],
   "source": [
    "from sklearn.ensemble import RandomForestClassifier\n",
    "classifier=RandomForestClassifier(n_estimators=100,random_state=0)\n",
    "classifier.fit(X_train,Y_train)\n"
   ]
  },
  {
   "cell_type": "code",
   "execution_count": 52,
   "id": "ed0e51cb",
   "metadata": {},
   "outputs": [
    {
     "data": {
      "text/plain": [
       "0.9958923415371923"
      ]
     },
     "execution_count": 52,
     "metadata": {},
     "output_type": "execute_result"
    }
   ],
   "source": [
    "classifier.score(X_train,Y_train)\n"
   ]
  },
  {
   "cell_type": "code",
   "execution_count": 56,
   "id": "441716bd",
   "metadata": {},
   "outputs": [
    {
     "name": "stdout",
     "output_type": "stream",
     "text": [
      "[0.95 0.05]\n"
     ]
    }
   ],
   "source": [
    "print(classifier.predict_proba(X_test)[9])"
   ]
  },
  {
   "cell_type": "code",
   "execution_count": null,
   "id": "dcdb9d3d",
   "metadata": {},
   "outputs": [],
   "source": []
  }
 ],
 "metadata": {
  "kernelspec": {
   "display_name": "Python 3 (ipykernel)",
   "language": "python",
   "name": "python3"
  },
  "language_info": {
   "codemirror_mode": {
    "name": "ipython",
    "version": 3
   },
   "file_extension": ".py",
   "mimetype": "text/x-python",
   "name": "python",
   "nbconvert_exporter": "python",
   "pygments_lexer": "ipython3",
   "version": "3.10.2"
  }
 },
 "nbformat": 4,
 "nbformat_minor": 5
}
