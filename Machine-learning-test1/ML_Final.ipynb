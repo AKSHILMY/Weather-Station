{
  "cells": [
    {
      "cell_type": "code",
      "execution_count": 11,
      "metadata": {
        "id": "3926d597"
      },
      "outputs": [],
      "source": [
        "import numpy as np\n",
        "import pandas as pd"
      ],
      "id": "3926d597"
    },
    {
      "cell_type": "code",
      "execution_count": 12,
      "metadata": {
        "id": "a54aa58e"
      },
      "outputs": [],
      "source": [
        "#importing dataset\n",
        "from sklearn.preprocessing import StandardScaler\n",
        "from sklearn.preprocessing import LabelEncoder\n",
        "from sklearn.impute import SimpleImputer\n"
      ],
      "id": "a54aa58e"
    },
    {
      "cell_type": "code",
      "execution_count": 13,
      "metadata": {
        "colab": {
          "base_uri": "https://localhost:8080/"
        },
        "id": "532dd0b3",
        "outputId": "576f3529-3140-4153-b5a8-b92241ebbf02"
      },
      "outputs": [
        {
          "output_type": "stream",
          "name": "stdout",
          "text": [
            "No     65220\n",
            "Yes    19315\n",
            "Name: RainToday, dtype: int64 Label Encoded\n",
            "       MinTemp  Rainfall  WindSpeed9am  Humidity9am  RainToday\n",
            "0         13.4       0.6          20.0         71.0          0\n",
            "1          7.4       0.0           4.0         44.0          0\n",
            "2         12.9       0.0          19.0         38.0          0\n",
            "3          9.2       0.0          11.0         45.0          0\n",
            "4         17.5       1.0           7.0         82.0          0\n",
            "...        ...       ...           ...          ...        ...\n",
            "86872     12.6       0.0           2.0         72.0          0\n",
            "86873     13.8       8.6           7.0         67.0          1\n",
            "86874     11.7       0.8          11.0         64.0          0\n",
            "86875     11.6       0.2           9.0         59.0          0\n",
            "86876     10.9       0.0           6.0         70.0          0\n",
            "\n",
            "[84535 rows x 5 columns]\n",
            "0    65220\n",
            "1    19315\n",
            "Name: RainToday, dtype: int64\n",
            "0    57836\n",
            "1    19277\n",
            "Name: RainToday, dtype: int64\n"
          ]
        }
      ],
      "source": [
        "dataset=pd.read_csv(\"weatherAUS.csv\")\n",
        "dataset=pd.DataFrame(dataset)\n",
        "dataset.drop_duplicates(keep='first',inplace=True)\n",
        "sc=StandardScaler()\n",
        "\n",
        "dataset = dataset[dataset['RainToday'].notna()]\n",
        "print(dataset[\"RainToday\"].value_counts(dropna=False),\"Label Encoded\")\n",
        "le_2=LabelEncoder()\n",
        "dataset[\"RainToday\"]=le_2.fit_transform(dataset[\"RainToday\"])\n",
        "dataset=dataset.iloc[:,[2,4,11,13,-2]]\n",
        "Y1=dataset[\"RainToday\"]\n",
        "Y1=pd.DataFrame(Y1)\n",
        "dataset.drop(columns=[\"RainToday\"],inplace=True)\n",
        "\n",
        "dataset_new=pd.concat([dataset,Y1],axis=1)\n",
        "print(dataset_new)\n",
        "print(dataset_new[\"RainToday\"].value_counts(dropna=False))\n",
        "\n",
        "dataset_new.drop_duplicates(keep='first',inplace=True)\n",
        "print(dataset_new[\"RainToday\"].value_counts(dropna=False))\n",
        "Y=dataset_new[\"RainToday\"]\n",
        "dataset_new.drop(columns=[\"RainToday\"],inplace=True)\n"
      ],
      "id": "532dd0b3"
    },
    {
      "cell_type": "code",
      "execution_count": 14,
      "metadata": {
        "id": "8qS2J0y1-x8k"
      },
      "outputs": [],
      "source": [
        "imputer=SimpleImputer(missing_values=np.nan,strategy='most_frequent')\n",
        "X=dataset_new\n",
        "X=pd.DataFrame(imputer.fit_transform(dataset_new))"
      ],
      "id": "8qS2J0y1-x8k"
    },
    {
      "cell_type": "code",
      "execution_count": 15,
      "metadata": {
        "colab": {
          "base_uri": "https://localhost:8080/"
        },
        "id": "0xI3gr8p6Lar",
        "outputId": "c0ddc477-5338-41c7-ef9a-473c7d3ee6d1"
      },
      "outputs": [
        {
          "output_type": "execute_result",
          "data": {
            "text/plain": [
              "0    57836\n",
              "1    19277\n",
              "Name: RainToday, dtype: int64"
            ]
          },
          "metadata": {},
          "execution_count": 15
        }
      ],
      "source": [
        "# Y=pd.DataFrame(Y)\n",
        "Y.value_counts(dropna=False)"
      ],
      "id": "0xI3gr8p6Lar"
    },
    {
      "cell_type": "code",
      "execution_count": 16,
      "metadata": {
        "id": "a5c8ba3d"
      },
      "outputs": [],
      "source": [
        "from sklearn.model_selection import train_test_split\n",
        "X_train,X_test,Y_train,Y_test=train_test_split(X,Y,test_size=0.5,random_state=42)\n"
      ],
      "id": "a5c8ba3d"
    },
    {
      "cell_type": "code",
      "execution_count": 17,
      "metadata": {
        "colab": {
          "base_uri": "https://localhost:8080/"
        },
        "id": "3f1436d1",
        "outputId": "697b80c3-31d6-48f4-f309-162d6458a7eb"
      },
      "outputs": [
        {
          "output_type": "execute_result",
          "data": {
            "text/plain": [
              "RandomForestClassifier(random_state=0)"
            ]
          },
          "metadata": {},
          "execution_count": 17
        }
      ],
      "source": [
        "from sklearn.ensemble import RandomForestClassifier\n",
        "classifier=RandomForestClassifier(n_estimators=100,random_state=0)\n",
        "classifier.fit(X_train,Y_train)\n",
        "\n"
      ],
      "id": "3f1436d1"
    },
    {
      "cell_type": "code",
      "source": [
        "#import xgboost as xgb\n",
        "#model=xgb.XGBClassifier()\n",
        "#model.fit(X_train,Y_train)\n",
        "#preds=model.predict(X_test)\n",
        "#print(accuracy_score(Y_test,preds))\n",
        "#print('F1 is: ', f1_score(Y_test,preds,average='micro'))\n"
      ],
      "metadata": {
        "id": "Knr6XpCfy8l1"
      },
      "id": "Knr6XpCfy8l1",
      "execution_count": 18,
      "outputs": []
    },
    {
      "cell_type": "code",
      "execution_count": 19,
      "metadata": {
        "colab": {
          "base_uri": "https://localhost:8080/"
        },
        "id": "ed0e51cb",
        "outputId": "c71125a7-30d6-4f40-93b9-f4c834b7785b"
      },
      "outputs": [
        {
          "output_type": "stream",
          "name": "stdout",
          "text": [
            "26676    0\n",
            "55623    0\n",
            "34657    0\n",
            "44268    0\n",
            "12686    0\n",
            "        ..\n",
            "6521     0\n",
            "60332    0\n",
            "86540    0\n",
            "871      0\n",
            "16679    0\n",
            "Name: RainToday, Length: 38556, dtype: int64\n"
          ]
        },
        {
          "output_type": "execute_result",
          "data": {
            "text/plain": [
              "1.0"
            ]
          },
          "metadata": {},
          "execution_count": 19
        }
      ],
      "source": [
        "\n",
        "print(Y_train)\n",
        "classifier.score(X_train,Y_train)\n",
        "\n"
      ],
      "id": "ed0e51cb"
    },
    {
      "cell_type": "code",
      "execution_count": 20,
      "metadata": {
        "id": "441716bd"
      },
      "outputs": [],
      "source": [
        "Y_predict=classifier.predict(X_test)\n",
        "# Y_test=Y_test.reshape(-1,1)\n",
        "# Y_predict=Y_predict.reshape(-1,1)\n",
        "# print(classifier.predict(X_test))"
      ],
      "id": "441716bd"
    },
    {
      "cell_type": "code",
      "execution_count": 21,
      "metadata": {
        "id": "FR61NZZaCJ4i"
      },
      "outputs": [],
      "source": [
        "Y_predict=pd.Series(Y_predict)"
      ],
      "id": "FR61NZZaCJ4i"
    },
    {
      "cell_type": "code",
      "execution_count": 22,
      "metadata": {
        "colab": {
          "base_uri": "https://localhost:8080/"
        },
        "id": "flNH5DTwCbU0",
        "outputId": "aba4c80f-8464-4c1d-9849-a458b2fcbf16"
      },
      "outputs": [
        {
          "output_type": "execute_result",
          "data": {
            "text/plain": [
              "61043    0\n",
              "67537    1\n",
              "16767    0\n",
              "78886    0\n",
              "8803     0\n",
              "        ..\n",
              "41078    0\n",
              "80962    0\n",
              "29123    0\n",
              "86271    0\n",
              "25238    1\n",
              "Name: RainToday, Length: 38557, dtype: int64"
            ]
          },
          "metadata": {},
          "execution_count": 22
        }
      ],
      "source": [
        "Y_test"
      ],
      "id": "flNH5DTwCbU0"
    },
    {
      "cell_type": "code",
      "execution_count": 23,
      "metadata": {
        "colab": {
          "base_uri": "https://localhost:8080/"
        },
        "id": "7tsRnLfmCyO0",
        "outputId": "833dab82-7ffc-4539-ea28-4f500fb3133c"
      },
      "outputs": [
        {
          "output_type": "execute_result",
          "data": {
            "text/plain": [
              "0    28845\n",
              "1     9712\n",
              "dtype: int64"
            ]
          },
          "metadata": {},
          "execution_count": 23
        }
      ],
      "source": [
        "Y_predict.value_counts()"
      ],
      "id": "7tsRnLfmCyO0"
    },
    {
      "cell_type": "code",
      "source": [
        "Y_test.value_counts()"
      ],
      "metadata": {
        "colab": {
          "base_uri": "https://localhost:8080/"
        },
        "id": "jgMqPKpgyA1r",
        "outputId": "cee70aed-0e08-44b8-a033-654c6e0cc56e"
      },
      "id": "jgMqPKpgyA1r",
      "execution_count": 24,
      "outputs": [
        {
          "output_type": "execute_result",
          "data": {
            "text/plain": [
              "0    28845\n",
              "1     9712\n",
              "Name: RainToday, dtype: int64"
            ]
          },
          "metadata": {},
          "execution_count": 24
        }
      ]
    },
    {
      "cell_type": "code",
      "execution_count": 25,
      "metadata": {
        "colab": {
          "base_uri": "https://localhost:8080/"
        },
        "id": "JbFEuE7CDtf8",
        "outputId": "0b77f63d-ac35-4e0c-b3b0-c023e7138a04"
      },
      "outputs": [
        {
          "output_type": "stream",
          "name": "stdout",
          "text": [
            "Precision is:  1.0\n",
            "Recall is:  1.0\n",
            "1.0\n",
            "F1 is:  1.0\n"
          ]
        }
      ],
      "source": [
        "from sklearn.metrics import accuracy_score\n",
        "from sklearn.metrics import f1_score\n",
        "\n",
        "from sklearn.metrics import precision_score, recall_score\n",
        "print('Precision is: ', precision_score(Y_test,Y_predict))\n",
        "print('Recall is: ', recall_score(Y_test,Y_predict))\n",
        "print(accuracy_score(Y_test,Y_predict))\n",
        "\n",
        "print('F1 is: ', f1_score(Y_test,Y_predict,average='micro'))\n",
        "# df=np.concatenate((Y_test,Y_predict),axis=1)\n",
        "# dataframe=pd.DataFrame(df,columns=[\"Actual\",\"prediction\"])\n",
        "# # print(dataframe)\n",
        "# dataframe.to_csv(\"prediction.csv\")"
      ],
      "id": "JbFEuE7CDtf8"
    },
    {
      "cell_type": "code",
      "execution_count": 33,
      "metadata": {
        "colab": {
          "base_uri": "https://localhost:8080/"
        },
        "id": "dcdb9d3d",
        "outputId": "9472401f-26da-4e94-b848-40d152eed336"
      },
      "outputs": [
        {
          "output_type": "stream",
          "name": "stdout",
          "text": [
            "[[13.8  8.6  7.  67. ]]\n",
            "[[13.8  8.6  7.  67. ]]\n",
            "[1]\n",
            "          0     1     2      3\n",
            "55494  12.2   0.2  24.0   67.0\n",
            "61295  11.7   1.8   0.0   87.0\n",
            "15875   8.3   0.0   4.0   48.0\n",
            "70494   2.6   0.0  13.0   82.0\n",
            "8506    7.0   0.0  20.0   99.0\n",
            "...     ...   ...   ...    ...\n",
            "37932   8.1   0.0  24.0   63.0\n",
            "72209   7.9   0.2   2.0  100.0\n",
            "27166   0.1   0.0   2.0   88.0\n",
            "76598  21.6   0.6   0.0   66.0\n",
            "23677  17.1  23.2   6.0   99.0\n",
            "\n",
            "[38557 rows x 4 columns]\n"
          ]
        }
      ],
      "source": [
        "new=np.array([[13.8,8.6,7.0,67.0]])\n",
        "print(new)\n",
        "print(new)\n",
        "prediction=classifier.predict(new)\n",
        "print(prediction)\n",
        "print(X_test)"
      ],
      "id": "dcdb9d3d"
    },
    {
      "cell_type": "code",
      "execution_count": null,
      "metadata": {
        "id": "2720b8e8"
      },
      "outputs": [],
      "source": [
        ""
      ],
      "id": "2720b8e8"
    }
  ],
  "metadata": {
    "colab": {
      "collapsed_sections": [],
      "name": "Untitled3 (1).ipynb",
      "provenance": []
    },
    "kernelspec": {
      "display_name": "Python 3 (ipykernel)",
      "language": "python",
      "name": "python3"
    },
    "language_info": {
      "codemirror_mode": {
        "name": "ipython",
        "version": 3
      },
      "file_extension": ".py",
      "mimetype": "text/x-python",
      "name": "python",
      "nbconvert_exporter": "python",
      "pygments_lexer": "ipython3",
      "version": "3.10.2"
    }
  },
  "nbformat": 4,
  "nbformat_minor": 5
}